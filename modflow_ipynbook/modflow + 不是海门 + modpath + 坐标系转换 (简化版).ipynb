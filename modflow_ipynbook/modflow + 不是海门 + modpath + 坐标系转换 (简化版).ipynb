{
  "cells": [
    {
      "cell_type": "code",
      "execution_count": 72,
      "metadata": {
        "colab": {
          "base_uri": "https://localhost:8080/"
        },
        "id": "F2Oq1o2sMzM1",
        "outputId": "dbba08e4-d39a-48b9-91dc-a07412c11d26"
      },
      "outputs": [],
      "source": [
        "import h5py "
      ]
    },
    {
      "cell_type": "markdown",
      "metadata": {},
      "source": [
        "# 获得坐标"
      ]
    },
    {
      "cell_type": "code",
      "execution_count": null,
      "metadata": {},
      "outputs": [],
      "source": [
        "from pyproj import Proj,transform\n",
        "import math\n",
        "\n",
        "def WGS84_CGCS2000(lon,lat,degree_type,is_zone_number):\n",
        "\n",
        "    '''\n",
        "    :param lon: 经度\n",
        "    :param lat: 纬度\n",
        "    :param degree_type:3度带或者6度带\n",
        "    :param is_zone_number: 生成坐标是否包含带号\n",
        "    :return:\n",
        "    '''\n",
        "\n",
        "    if int(lon)<75 or int(lon)>135:\n",
        "        print('该区域不在中国境内')\n",
        "    else:\n",
        "        if degree_type==3:\n",
        "            if is_zone_number==True:\n",
        "                zone=math.floor( (lon-1.5)/3 )+1\n",
        "                Epsg_test='45{0}'.format(str(zone-12) )\n",
        "                p1 = Proj(init='epsg:4326')\n",
        "                p2 = Proj(init='epsg:{0}'.format(Epsg_test))\n",
        "                x, y = p1(lon,lat)\n",
        "                x_prj, y_prj = transform(p1, p2, x, y)\n",
        "                x_prj=int(x_prj)\n",
        "                y_prj=int(y_prj)\n",
        "\n",
        "            elif is_zone_number==False:\n",
        "                zone=math.floor( (lon-1.5)/3 )+1\n",
        "                Epsg_test = '45{0}'.format(str(zone+9))\n",
        "                p1 = Proj(init='epsg:4326')\n",
        "                p2 = Proj(init='epsg:{0}'.format(Epsg_test))\n",
        "                x, y = p1(lon,lat)\n",
        "                x_prj, y_prj = transform(p1, p2, x, y)\n",
        "                x_prj=int(x_prj)\n",
        "                y_prj=int(y_prj)\n",
        "\n",
        "        elif degree_type==6:\n",
        "\n",
        "            if is_zone_number==True:\n",
        "                zone=math.floor(lon/6)+1\n",
        "                epsg=str(4490+zone-12)\n",
        "                p1 = Proj(init='epsg:4326')\n",
        "                p2 = Proj(init='epsg:{0}'.format(epsg))\n",
        "                x, y = p1(lon,lat)\n",
        "                x_prj, y_prj = transform(p1, p2, x, y)\n",
        "                x_prj=int(x_prj)\n",
        "                y_prj=int(y_prj)\n",
        "\n",
        "            elif is_zone_number==False:\n",
        "\n",
        "                zone = math.floor(lon / 6) + 1\n",
        "                epsg=4500+zone-11\n",
        "                p1 = Proj(init='epsg:4326')\n",
        "                p2 = Proj(init='epsg:{0}'.format(epsg))\n",
        "                x, y = p1(lon,lat)\n",
        "                x_prj, y_prj = transform(p1, p2, x, y)\n",
        "                x_prj=int(x_prj)\n",
        "                y_prj=int(y_prj)\n",
        "\n",
        "    return x_prj,y_prj\n",
        "\n",
        "def CGCS2000_WGS84(X,Y):\n",
        "\n",
        "    p = Proj(init='epsg:4528')\n",
        "    lon,lat = p(X,Y,inverse=True)\n",
        "    lon=round(lon,6)\n",
        "    lat=round(lat,6)\n",
        "    return lon,lat\n",
        "\n",
        "if __name__=='__main__':\n",
        "    X_DIFF = 40094019 \n",
        "    Y_DIFF = 368\n",
        "    x_2000, y_2000 = WGS84_CGCS2000(121.049864464,32.551416489, 3, is_zone_number=True)\n",
        "    print(\"对应的网格坐标:\", x_2000 - X_DIFF, y_2000 - Y_DIFF)\n",
        "    # ID为0的坐标值\n",
        "    x0 = 498149\n",
        "    y0 = 3604810\n",
        "    x_WGS84, y_WGS84 = CGCS2000_WGS84(x0 + X_DIFF, y0 + Y_DIFF)\n",
        "    print(\"对应的WGS坐标:\", x_WGS84, y_WGS84)\n",
        "\n",
        "    # print(CGCS2000_WGS84(x_2000,y_2000))"
      ]
    },
    {
      "cell_type": "code",
      "execution_count": 95,
      "metadata": {},
      "outputs": [],
      "source": [
        "xorigin = 498149\n",
        "yorigin = 3594250"
      ]
    },
    {
      "cell_type": "markdown",
      "metadata": {
        "id": "zFyLQ-ZbSEaH"
      },
      "source": [
        "## 输入【基本变量】"
      ]
    },
    {
      "cell_type": "code",
      "execution_count": 74,
      "metadata": {},
      "outputs": [],
      "source": [
        "NROW = 213\n",
        "NCOL = 283\n",
        "NLAY = 4\n",
        "sim_name_ini = \"2022.10.20-FJMFQF\"\n",
        "sim_ws_ini = \"2022.10.20-FJMFQF_MODFLOW\""
      ]
    },
    {
      "cell_type": "markdown",
      "metadata": {},
      "source": [
        "## 破解 h5、并读取边界水头chd、初始水头starthead、边界ibound"
      ]
    },
    {
      "cell_type": "code",
      "execution_count": 75,
      "metadata": {},
      "outputs": [],
      "source": [
        "import h5py \n",
        "import numpy as np\n",
        "\n",
        "f1 = h5py.File(\"/home/nandahgy/yqc_model/\" + sim_ws_ini + \"/\" + sim_name_ini + \".h5\",'r')"
      ]
    },
    {
      "cell_type": "code",
      "execution_count": 76,
      "metadata": {},
      "outputs": [],
      "source": [
        "f2 = h5py.File(\"/home/nandahgy/yqc_model/\" + sim_ws_ini + \"/\" + sim_name_ini + \".hed.h5\",'r')"
      ]
    },
    {
      "cell_type": "code",
      "execution_count": 77,
      "metadata": {},
      "outputs": [],
      "source": [
        "nums = list(f2['Datasets']['Head']['Values'][0])\n",
        "tmp2 = []\n",
        "for j in range(NLAY):\n",
        "      tmp = []\n",
        "      for i in range(NROW):\n",
        "            tmp.append(nums[i*NCOL:(1+i)*NCOL])\n",
        "      tmp2.append(tmp)\n",
        "chd = np.array(tmp2)\n",
        "# 输出测试\n",
        "# chd[0,98,29]"
      ]
    },
    {
      "cell_type": "code",
      "execution_count": 78,
      "metadata": {},
      "outputs": [
        {
          "name": "stdout",
          "output_type": "stream",
          "text": [
            "1\n",
            "1\n",
            "1\n",
            "1\n"
          ]
        }
      ],
      "source": [
        "nums = [0] * (NROW * NCOL)\n",
        "idomain = np.ones((NLAY, NROW, NCOL), dtype = int) # 参与模拟的区域，1 为参与\n",
        "for layi in range(NLAY):\n",
        "  iboundname = 'ibound' + str(layi + 1)\n",
        "  nums = list(f1['Arrays'][iboundname])\n",
        "  tmp = []\n",
        "  for rowi in range(NROW):\n",
        "    tmp.append(nums[rowi * NCOL:(1 + rowi) * NCOL])\n",
        "  idomain[layi,:,:] = np.array(tmp)\n",
        "\n",
        "print(idomain[0,100,100])\n",
        "print(idomain[1,100,100])\n",
        "print(idomain[2,100,100])\n",
        "print(idomain[3,100,100])"
      ]
    },
    {
      "cell_type": "code",
      "execution_count": 79,
      "metadata": {},
      "outputs": [
        {
          "name": "stdout",
          "output_type": "stream",
          "text": [
            "5.0\n",
            "-2.0\n",
            "-18.0\n",
            "-35.0\n"
          ]
        }
      ],
      "source": [
        "\n",
        "# 初始条件: # Initial conditions\n",
        "# Starting concentrations 初始浓度\n",
        "sconc = 0.0\n",
        "# Starting Heads 初始水头\n",
        "nums = [0] * (NROW * NCOL)\n",
        "strt = np.zeros((NLAY, NROW, NCOL), dtype=float)\n",
        "\n",
        "for layi in range(NLAY):\n",
        "  StartHeadname = 'StartHead' + str(layi + 1)\n",
        "  nums = list(f1['Arrays'][StartHeadname])\n",
        "  tmp = []\n",
        "  for rowi in range(NROW):\n",
        "    tmp.append(nums[rowi * NCOL:(1 + rowi) * NCOL])\n",
        "  strt[layi,:,:] = np.array(tmp)\n",
        "\n",
        "print(strt[0,100,100])\n",
        "print(strt[1,100,100])\n",
        "print(strt[2,100,100])\n",
        "print(strt[3,100,100])"
      ]
    },
    {
      "cell_type": "code",
      "execution_count": 80,
      "metadata": {},
      "outputs": [
        {
          "name": "stdout",
          "output_type": "stream",
          "text": [
            "top1: 5.0\n",
            "bot1: -2.0\n",
            "bot2: -18.0\n",
            "bot3: -35.0\n",
            "bot4: -75.06968688964844\n"
          ]
        }
      ],
      "source": [
        "nums = list(f1['Arrays']['top1'])\n",
        "tmp = []\n",
        "for i in range(NROW):\n",
        "  tmp.append(nums[i*NCOL:(1+i)*NCOL])\n",
        "top1 = np.array(tmp)\n",
        "\n",
        "nums = list(f1['Arrays']['bot1'])\n",
        "tmp = []\n",
        "for i in range(NROW):\n",
        "  tmp.append(nums[i*NCOL:(1+i)*NCOL])\n",
        "bot1 = np.array(tmp)\n",
        "\n",
        "nums = list(f1['Arrays']['bot2'])\n",
        "tmp = []\n",
        "for i in range(NROW):\n",
        "  tmp.append(nums[i*NCOL:(1+i)*NCOL])\n",
        "bot2 = np.array(tmp)\n",
        "\n",
        "nums = list(f1['Arrays']['bot3'])\n",
        "tmp = []\n",
        "for i in range(NROW):\n",
        "  tmp.append(nums[i*NCOL:(1+i)*NCOL])\n",
        "bot3 = np.array(tmp)\n",
        "\n",
        "nums = list(f1['Arrays']['bot4'])\n",
        "tmp = []\n",
        "for i in range(NROW):\n",
        "  tmp.append(nums[i*NCOL:(1+i)*NCOL])\n",
        "bot4 = np.array(tmp)\n",
        "\n",
        "print(\"top1:\",top1[100,100])\n",
        "print(\"bot1:\",bot1[100,100])\n",
        "print(\"bot2:\",bot2[100,100])\n",
        "print(\"bot3:\",bot3[100,100])\n",
        "print(\"bot4:\",bot4[100,100])"
      ]
    },
    {
      "cell_type": "code",
      "execution_count": 81,
      "metadata": {},
      "outputs": [
        {
          "name": "stdout",
          "output_type": "stream",
          "text": [
            "HK1: 3.6\n",
            "HK2: 3.6\n",
            "HK3: 0.0001\n",
            "HK4: 4.4\n",
            "HANI 和 VANI 都是比值\n",
            "HANI1: 1.0\n",
            "HANI2: 1.0\n",
            "HANI3: 1.0\n",
            "HANI4: 1.0\n",
            "VANI1: 3.0\n",
            "VANI2: 3.0\n",
            "VANI3: 3.0\n",
            "VANI4: 3.0\n"
          ]
        }
      ],
      "source": [
        "\n",
        "nums = list(f1['Arrays']['HK1'])\n",
        "tmp = []\n",
        "for i in range(NROW):\n",
        "  tmp.append(nums[i*NCOL:(1+i)*NCOL])\n",
        "HK1 = np.array(tmp)\n",
        "\n",
        "nums = list(f1['Arrays']['HK2'])\n",
        "tmp = []\n",
        "for i in range(NROW):\n",
        "  tmp.append(nums[i*NCOL:(1+i)*NCOL])\n",
        "HK2 = np.array(tmp)\n",
        "\n",
        "nums = list(f1['Arrays']['HK3'])\n",
        "tmp = []\n",
        "for i in range(NROW):\n",
        "  tmp.append(nums[i*NCOL:(1+i)*NCOL])\n",
        "HK3 = np.array(tmp)\n",
        "\n",
        "nums = list(f1['Arrays']['HK4'])\n",
        "tmp = []\n",
        "for i in range(NROW):\n",
        "  tmp.append(nums[i*NCOL:(1+i)*NCOL])\n",
        "HK4 = np.array(tmp)\n",
        "\n",
        "nums = list(f1['Arrays']['HANI1'])\n",
        "tmp = []\n",
        "for i in range(NROW):\n",
        "  tmp.append(nums[i*NCOL:(1+i)*NCOL])\n",
        "HANI1 = np.array(tmp)\n",
        "\n",
        "nums = list(f1['Arrays']['HANI2'])\n",
        "tmp = []\n",
        "for i in range(NROW):\n",
        "  tmp.append(nums[i*NCOL:(1+i)*NCOL])\n",
        "HANI2 = np.array(tmp)\n",
        "\n",
        "nums = list(f1['Arrays']['HANI3'])\n",
        "tmp = []\n",
        "for i in range(NROW):\n",
        "  tmp.append(nums[i*NCOL:(1+i)*NCOL])\n",
        "HANI3 = np.array(tmp)\n",
        "\n",
        "nums = list(f1['Arrays']['HANI4'])\n",
        "tmp = []\n",
        "for i in range(NROW):\n",
        "  tmp.append(nums[i*NCOL:(1+i)*NCOL])\n",
        "HANI4 = np.array(tmp)\n",
        "\n",
        "nums = list(f1['Arrays']['VANI1'])\n",
        "tmp = []\n",
        "for i in range(NROW):\n",
        "  tmp.append(nums[i*NCOL:(1+i)*NCOL])\n",
        "VANI1 = np.array(tmp)\n",
        "\n",
        "nums = list(f1['Arrays']['VANI2'])\n",
        "tmp = []\n",
        "for i in range(NROW):\n",
        "  tmp.append(nums[i*NCOL:(1+i)*NCOL])\n",
        "VANI2 = np.array(tmp)\n",
        "\n",
        "nums = list(f1['Arrays']['VANI3'])\n",
        "tmp = []\n",
        "for i in range(NROW):\n",
        "  tmp.append(nums[i*NCOL:(1+i)*NCOL])\n",
        "VANI3 = np.array(tmp)\n",
        "\n",
        "nums = list(f1['Arrays']['VANI4'])\n",
        "tmp = []\n",
        "for i in range(NROW):\n",
        "  tmp.append(nums[i*NCOL:(1+i)*NCOL])\n",
        "VANI4 = np.array(tmp)\n",
        "\n",
        "print(\"HK1:\",HK1[100,100])\n",
        "print(\"HK2:\",HK2[100,100])\n",
        "print(\"HK3:\",HK3[100,100])\n",
        "print(\"HK4:\",HK4[100,100])\n",
        "print(\"HANI 和 VANI 都是比值\")\n",
        "print(\"HANI1:\",HANI1[100,100])\n",
        "print(\"HANI2:\",HANI2[100,100])\n",
        "print(\"HANI3:\",HANI3[100,100])\n",
        "print(\"HANI4:\",HANI4[100,100])\n",
        "print(\"VANI1:\",VANI1[100,100])\n",
        "print(\"VANI2:\",VANI2[100,100])\n",
        "print(\"VANI3:\",VANI3[100,100])\n",
        "print(\"VANI4:\",VANI4[100,100])"
      ]
    },
    {
      "cell_type": "code",
      "execution_count": 82,
      "metadata": {},
      "outputs": [
        {
          "name": "stdout",
          "output_type": "stream",
          "text": [
            "rch: 0.000132\n",
            "et_surf: 3.0\n",
            "et_rat: 0.000141\n",
            "et_dep: 10.0\n"
          ]
        }
      ],
      "source": [
        "nums = list(f1['Recharge']['07. Property'][0,:,0])\n",
        "tmp = []\n",
        "for i in range(NROW):\n",
        "  tmp.append(nums[i*NCOL:(1+i)*NCOL])\n",
        "rch = np.array(tmp)\n",
        "\n",
        "nums = list(f1['ET']['07. Property'][0,:,0])\n",
        "tmp = []\n",
        "for i in range(NROW):\n",
        "  tmp.append(nums[i*NCOL:(1+i)*NCOL])\n",
        "et_surf = np.array(tmp)\n",
        "\n",
        "nums = list(f1['ET']['07. Property'][1,:,0])\n",
        "tmp = []\n",
        "for i in range(NROW):\n",
        "  tmp.append(nums[i*NCOL:(1+i)*NCOL])\n",
        "et_rat = np.array(tmp)\n",
        "\n",
        "nums = list(f1['ET']['07. Property'][2,:,0])\n",
        "tmp = []\n",
        "for i in range(NROW):\n",
        "  tmp.append(nums[i*NCOL:(1+i)*NCOL])\n",
        "et_dep = np.array(tmp)\n",
        "\n",
        "print(\"rch:\",rch[100,100])\n",
        "print(\"et_surf:\",et_surf[100,100])\n",
        "print(\"et_rat:\",et_rat[100,100])\n",
        "print(\"et_dep:\",et_dep[100,100])"
      ]
    },
    {
      "cell_type": "markdown",
      "metadata": {},
      "source": [
        "## 绘制二维图plot"
      ]
    },
    {
      "cell_type": "code",
      "execution_count": 83,
      "metadata": {},
      "outputs": [
        {
          "data": {
            "image/png": "[encoded data removed]",
            "text/plain": [
              "<Figure size 640x480 with 2 Axes>"
            ]
          },
          "metadata": {},
          "output_type": "display_data"
        }
      ],
      "source": [
        "from matplotlib import pyplot as plt\n",
        "from matplotlib import cm\n",
        "import numpy.ma as npm\n",
        "\n",
        "mask = chd < 0\n",
        "arrmask = npm.array(chd, mask=mask)\n",
        "\n",
        "plt.imshow(arrmask[3], cmap=cm.gray)\n",
        "plt.colorbar()\n",
        "plt.show()"
      ]
    },
    {
      "cell_type": "markdown",
      "metadata": {
        "id": "KP36AiNKDyri"
      },
      "source": [
        "# 基于mf6的溶质运移模型(再试一遍)\n",
        "\n",
        "https://zhuanlan.zhihu.com/p/532012679"
      ]
    },
    {
      "cell_type": "code",
      "execution_count": 84,
      "metadata": {
        "id": "JTW7uOViD2ss"
      },
      "outputs": [],
      "source": [
        "# Filename\n",
        "sim_ws = 'simulation_1024_A'\n",
        "sim_name = 'model'          # 模拟总名称\n",
        "gwfname = \"gwf_\" + sim_name # 渗流模型名称\n",
        "gwtname = \"gwt_\" + sim_name # 溶质运移模型名称"
      ]
    },
    {
      "cell_type": "code",
      "execution_count": 85,
      "metadata": {
        "id": "mVzBLKMKD67A"
      },
      "outputs": [],
      "source": [
        "# Units\n",
        "length_units = \"meters\"   # 长度单位\n",
        "time_units = \"days\"       # 时间单位"
      ]
    },
    {
      "cell_type": "markdown",
      "metadata": {
        "id": "V0QUGCPdPFQD"
      },
      "source": [
        "## 离散层数"
      ]
    },
    {
      "cell_type": "code",
      "execution_count": 86,
      "metadata": {
        "id": "rFyUVo_rD9cv"
      },
      "outputs": [],
      "source": [
        "# Discretization\n",
        "import numpy as np\n",
        "nper = 1                  # 稳定流，周期数为 1\n",
        "nlay = NLAY                  # 层数\n",
        "nrow = NROW                 # 行数\n",
        "ncol = NCOL                 # 列数\n",
        "delr = 49.84594               # 单位行长，在out文件内部\n",
        "delc = 49.82019               # 单位列长，在out文件内部\n",
        "# delz = 10.0               # 单位层高\n",
        "Lx = delr * nrow\n",
        "Ly = delc * ncol\n",
        "top = 5.0                 # 顶部高程\n",
        "botm = [bot1[100,100],bot2[100,100],bot3[100,100],bot4[100,100]]\n"
      ]
    },
    {
      "cell_type": "code",
      "execution_count": 87,
      "metadata": {
        "colab": {
          "base_uri": "https://localhost:8080/"
        },
        "id": "h_LDk4gDQ3k5",
        "outputId": "b1d0d29c-551b-41d4-f180-e9fd0c747b98"
      },
      "outputs": [
        {
          "data": {
            "text/plain": [
              "[-2.0, -18.0, -35.0, -75.06968688964844]"
            ]
          },
          "execution_count": 87,
          "metadata": {},
          "output_type": "execute_result"
        }
      ],
      "source": [
        "botm"
      ]
    },
    {
      "cell_type": "markdown",
      "metadata": {},
      "source": [
        "## 渗透系数"
      ]
    },
    {
      "cell_type": "code",
      "execution_count": 88,
      "metadata": {
        "id": "3SXZFmmfEAEm"
      },
      "outputs": [],
      "source": [
        "# 设置溶质运移模型专门参数:\n",
        "# GWT\n",
        "porosity = 0.2\n",
        "al = 20.0                    # 纵向弥散系数\n",
        "trpt = 0.3; ath1 = al * trpt # 横向弥散系数\n",
        "trpv = 0.3; atv = al * trpv  # 垂直弥散系数\n",
        "\n",
        "# 设置渗流模型专门参数:\n",
        "\n",
        "# GWF\n",
        "icelltype = [0, 0, 0, 0] # 饱和 or 非饱和\n",
        "k11 = [HK1[100,100], HK2[100,100], HK3[100,100], HK4[100,100]]\n",
        "# k22overk = HANI1[100,100]\n",
        "# k33overk = VANI1[100,100]\n",
        "k33 = k11\n",
        "# icelltype = 0\n",
        "# k11 = 0.5"
      ]
    },
    {
      "cell_type": "code",
      "execution_count": 89,
      "metadata": {
        "colab": {
          "base_uri": "https://localhost:8080/"
        },
        "id": "d_wxCEZGEByF",
        "outputId": "48daf4c0-3a9a-4b0c-9382-e41ebbdb5f77"
      },
      "outputs": [
        {
          "name": "stdout",
          "output_type": "stream",
          "text": [
            "[(100.0, 10, 1.0)]\n"
          ]
        }
      ],
      "source": [
        "# 时间离散化参数:\n",
        "# Temporal discretization\n",
        "perlen = 100.0\n",
        "nstp = 10\n",
        "tsmult = 1.0\n",
        "tdis_ds = []\n",
        "tdis_ds.append((perlen, nstp, tsmult),)\n",
        "print(tdis_ds)\n",
        "\n",
        "# 求解器参数：\n",
        "# Solver parameters\n",
        "nouter, ninner = 100, 300\n",
        "hclose, rclose, relax = 1e-6, 1e-6, 1.0"
      ]
    },
    {
      "cell_type": "code",
      "execution_count": 90,
      "metadata": {
        "colab": {
          "base_uri": "https://localhost:8080/"
        },
        "id": "sOjUvsB7ED0V",
        "outputId": "5bfda343-10d0-4c4c-beb3-aa9f16d67a51"
      },
      "outputs": [],
      "source": [
        "# 初始条件: # Initial conditions\n",
        "# Starting concentrations 初始浓度\n",
        "sconc = 0.0\n",
        "# Starting Heads 初始水头\n"
      ]
    },
    {
      "cell_type": "markdown",
      "metadata": {
        "id": "U0063rIcJwoj"
      },
      "source": [
        "## 井"
      ]
    },
    {
      "cell_type": "code",
      "execution_count": 91,
      "metadata": {
        "id": "v7e4EgrqEIhH"
      },
      "outputs": [],
      "source": [
        "# 边界条件: # Boundary conditions\n",
        "# wel_spd 井\n",
        "qwell = 0\n",
        "cwell = 100.0\n",
        "wel_loc = (2, 100, 100)\n",
        "#               (k, i, j),  flow,  conc\n",
        "wel_spd = {0: [[wel_loc, qwell, cwell]]}\n"
      ]
    },
    {
      "cell_type": "markdown",
      "metadata": {},
      "source": [
        "## 边界水头chd的指定要非常注意，容易不收敛"
      ]
    },
    {
      "cell_type": "markdown",
      "metadata": {},
      "source": [
        "以下2个代码块只需要跑一个"
      ]
    },
    {
      "cell_type": "code",
      "execution_count": 92,
      "metadata": {
        "colab": {
          "base_uri": "https://localhost:8080/"
        },
        "id": "n35lIVWcK22u",
        "outputId": "96f391dc-46a9-4734-8508-4625925338f1"
      },
      "outputs": [],
      "source": [
        "# chd_spd = []\n",
        "# cnt = 0\n",
        "# for k in np.arange(nlay): # 东西两侧分别指定\n",
        "#     for j in np.arange(ncol): # 南北两侧分别指定\n",
        "#         for i in np.arange(nrow):\n",
        "#             if idomain[k][i][j] == 1:\n",
        "#               chd_spd.append([(k, i, j), chd[k, i, j], 100.0]) #(l, r, c),head, conc\n",
        "#               cnt += 1\n",
        "#               break\n",
        "#         for i in np.arange(nrow-1,-1,-1):\n",
        "#             if idomain[k][i][j] == 1:\n",
        "#               chd_spd.append([(k, i, j), chd[k, i, j], 100.0]) #(l, r, c),head, conc\n",
        "#               cnt += 1\n",
        "#               break\n",
        "# chd_spd = {0: chd_spd}\n",
        "# cnt"
      ]
    },
    {
      "cell_type": "code",
      "execution_count": 93,
      "metadata": {},
      "outputs": [
        {
          "data": {
            "text/plain": [
              "768"
            ]
          },
          "execution_count": 93,
          "metadata": {},
          "output_type": "execute_result"
        }
      ],
      "source": [
        "chd_spd = []\n",
        "cnt = 0\n",
        "for k in np.arange(nlay): # 东西两侧分别指定\n",
        "    for i in np.arange(nrow):\n",
        "        for j in np.arange(ncol): # 南北两侧分别指定\n",
        "            if idomain[k][i][j] == 1:\n",
        "              chd_spd.append([(k, i, j), chd[k, i, j], 100.0])  #(l, r, c),head, conc\n",
        "              cnt += 1\n",
        "              break\n",
        "        for j in np.arange(ncol-1,-1,-1): # 南北两侧分别指定\n",
        "            if idomain[k][i][j] == 1:\n",
        "              chd_spd.append([(k, i, j), chd[k, i, j], 100.0])  #(l, r, c),head, conc\n",
        "              break\n",
        "chd_spd = {0: chd_spd}\n",
        "cnt"
      ]
    },
    {
      "cell_type": "markdown",
      "metadata": {
        "id": "0wAnwKnWTA-l"
      },
      "source": [
        "## 建模并计算"
      ]
    },
    {
      "cell_type": "code",
      "execution_count": 96,
      "metadata": {
        "colab": {
          "background_save": true
        },
        "id": "Ct5ifYH0ERGc"
      },
      "outputs": [
        {
          "name": "stdout",
          "output_type": "stream",
          "text": [
            "sim_name: model\n",
            "sim_ws: simulation_1024_A\n",
            "gwfname: gwf_model\n",
            "nlay: 4\n",
            "nrow: 213\n",
            "ncol: 283\n",
            "delr: 49.84594\n",
            "delc: 49.82019\n",
            "top: 5.0\n",
            "botm: [-2.0, -18.0, -35.0, -75.06968688964844]\n",
            "icelltype: [0, 0, 0, 0]\n",
            "k11: [3.6, 3.6, 0.0001, 4.4]\n",
            "k33: [3.6, 3.6, 0.0001, 4.4]\n",
            "strt: 5.0\n",
            "strt: -2.0\n",
            "strt: -18.0\n",
            "strt: -35.0\n",
            "chd_spd: [[(0, 10, 111), 1.819839, 100.0], [(0, 10, 112), 1.8110753, 100.0], [(0, 11, 110), 1.8322532, 100.0], [(0, 11, 113), 1.8076414, 100.0], [(0, 12, 109), 1.8448678, 100.0], [(0, 12, 114), 1.8065386, 100.0], [(0, 13, 108), 1.8573862, 100.0], [(0, 13, 116), 1.8015115, 100.0], [(0, 14, 107), 1.869854, 100.0], [(0, 14, 116), 1.8054472, 100.0]]\n",
            "wel_spd: {0: [[(2, 100, 100), 0, 100.0]]}\n",
            "rch: 0.000132\n",
            "et_surf: 3.0\n",
            "et_rat: 0.000141\n",
            "et_dep: 10.0\n"
          ]
        }
      ],
      "source": [
        "import flopy\n",
        "def build_model():\n",
        "    sim = flopy.mf6.MFSimulation(\n",
        "        sim_name=sim_name, sim_ws=sim_ws, exe_name='/usr/local/lib/modflow/mf6'\n",
        "    )\n",
        "    print(\"sim_name:\",sim_name)\n",
        "    print(\"sim_ws:\",sim_ws)\n",
        "\n",
        "    # 时间离散化\n",
        "    flopy.mf6.ModflowTdis(\n",
        "        sim, nper=nper, perioddata=tdis_ds, time_units=time_units\n",
        "    )\n",
        "\n",
        "    # GWF\n",
        "    gwf = flopy.mf6.ModflowGwf(\n",
        "        sim,\n",
        "        modelname=gwfname,\n",
        "        save_flows=True,\n",
        "        model_nam_file=\"{}.nam\".format(gwfname),\n",
        "    )\n",
        "    print(\"gwfname:\",gwfname)\n",
        "\n",
        "    # 渗流模型求解参数\n",
        "    imsgwf = flopy.mf6.ModflowIms(\n",
        "        sim,\n",
        "        print_option=\"SUMMARY\",\n",
        "        outer_dvclose=hclose,\n",
        "        outer_maximum=nouter,\n",
        "        under_relaxation=\"NONE\",\n",
        "        inner_maximum=ninner,\n",
        "        inner_dvclose=hclose,\n",
        "        rcloserecord=rclose,\n",
        "        linear_acceleration=\"CG\",\n",
        "        scaling_method=\"NONE\",\n",
        "        reordering_method=\"NONE\",\n",
        "        relaxation_factor=relax,\n",
        "        filename=\"{}.ims\".format(gwfname),\n",
        "    )\n",
        "    sim.register_ims_package(imsgwf, [gwf.name])\n",
        "\n",
        "    # 离散化\n",
        "    dis6 = flopy.mf6.ModflowGwfdis(\n",
        "        gwf,\n",
        "        length_units=length_units,\n",
        "        xorigin=xorigin,\n",
        "        yorigin=yorigin,\n",
        "        nlay=nlay,\n",
        "        nrow=nrow,\n",
        "        ncol=ncol,\n",
        "        delr=delr,\n",
        "        delc=delc,\n",
        "        top=top,\n",
        "        botm=botm,\n",
        "        idomain=idomain,\n",
        "        filename=\"{}.dis\".format(gwfname),\n",
        "    )\n",
        "    print(\"nlay:\",nlay)\n",
        "    print(\"nrow:\",nrow)\n",
        "    print(\"ncol:\",ncol)\n",
        "    print(\"delr:\",delr)\n",
        "    print(\"delc:\",delc)\n",
        "    print(\"top:\",top)\n",
        "    print(\"botm:\",botm)\n",
        "\n",
        "    # 含水层特性\n",
        "    flopy.mf6.ModflowGwfnpf(\n",
        "        gwf,\n",
        "        save_flows=False,\n",
        "        icelltype=icelltype,\n",
        "        k=k11,\n",
        "        # k22=1.0,\n",
        "        # k22overk=k22overk,\n",
        "        # k33overk=k33overk,\n",
        "        k33=k33,\n",
        "        save_specific_discharge=True,\n",
        "        filename=\"{}.npf\".format(gwfname),\n",
        "    )\n",
        "    print(\"icelltype:\",icelltype)\n",
        "    print(\"k11:\",k11)\n",
        "    print(\"k33:\",k33)\n",
        "    \n",
        "\n",
        "    # 初始水头\n",
        "    flopy.mf6.ModflowGwfic(\n",
        "        gwf, strt=strt, filename=\"{}.ic\".format(gwfname)\n",
        "    )\n",
        "    print(\"strt:\",strt[0,100,100])\n",
        "    print(\"strt:\",strt[1,100,100])\n",
        "    print(\"strt:\",strt[2,100,100])\n",
        "    print(\"strt:\",strt[3,100,100])\n",
        "\n",
        "    # 指定水头边界\n",
        "    flopy.mf6.ModflowGwfchd(\n",
        "        gwf,\n",
        "        maxbound=len(chd_spd),\n",
        "        stress_period_data=chd_spd,\n",
        "        save_flows=False,\n",
        "        auxiliary=\"CONCENTRATION\",\n",
        "        pname=\"CHD-1\",\n",
        "        filename=\"{}.chd\".format(gwfname),\n",
        "    )\n",
        "    print(\"chd_spd:\",chd_spd[0][:10])\n",
        "\n",
        "\n",
        "    # 井边界\n",
        "    flopy.mf6.ModflowGwfwel(\n",
        "        gwf,\n",
        "        print_input=True,\n",
        "        print_flows=True,\n",
        "        stress_period_data=wel_spd,\n",
        "        save_flows=False,\n",
        "        auxiliary=\"CONCENTRATION\",\n",
        "        pname=\"WEL-1\",\n",
        "        filename=\"{}.wel\".format(gwfname),\n",
        "    )\n",
        "    print(\"wel_spd:\",wel_spd)\n",
        "\n",
        "    # 补给recharge\n",
        "    flopy.mf6.ModflowGwfrcha(\n",
        "        gwf,\n",
        "        recharge=rch[100,100],\n",
        "        filename=\"{}.rch\".format(gwfname),\n",
        "    )\n",
        "    print(\"rch:\",rch[100,100])\n",
        "\n",
        "    # 蒸发\n",
        "    flopy.mf6.ModflowGwfevta(\n",
        "        gwf,\n",
        "        surface=et_surf[100,100],\n",
        "        rate=et_rat[100,100],\n",
        "        depth=et_dep[100,100],\n",
        "        filename=\"{}.evt\".format(gwfname),\n",
        "    )\n",
        "    print(\"et_surf:\",et_surf[100,100])\n",
        "    print(\"et_rat:\",et_rat[100,100])\n",
        "    print(\"et_dep:\",et_dep[100,100])\n",
        "\n",
        "    # 输出控制\n",
        "    flopy.mf6.ModflowGwfoc(\n",
        "        gwf,\n",
        "        head_filerecord=\"{}.hds\".format(gwfname),\n",
        "        budget_filerecord=\"{}.bud\".format(gwfname),\n",
        "        headprintrecord=[\n",
        "            (\"COLUMNS\", 100, \"WIDTH\", 150, \"DIGITS\", 6, \"GENERAL\")\n",
        "        ],\n",
        "        saverecord=[(\"HEAD\", \"ALL\"), (\"BUDGET\", \"ALL\")],\n",
        "        printrecord=[(\"HEAD\", \"ALL\"), (\"BUDGET\", \"ALL\")],\n",
        "    )\n",
        "\n",
        "    # GWT\n",
        "    gwt = flopy.mf6.ModflowGwt(\n",
        "        sim,\n",
        "        modelname=gwtname,\n",
        "        save_flows=True,\n",
        "        model_nam_file=\"{}.nam\".format(gwtname),\n",
        "    )\n",
        "\n",
        "    # 溶质运移模型求解参数\n",
        "    imsgwt = flopy.mf6.ModflowIms(\n",
        "        sim,\n",
        "        print_option=\"SUMMARY\",\n",
        "        outer_dvclose=hclose,\n",
        "        outer_maximum=nouter,\n",
        "        under_relaxation=\"NONE\",\n",
        "        inner_maximum=ninner,\n",
        "        inner_dvclose=hclose,\n",
        "        rcloserecord=rclose,\n",
        "        linear_acceleration=\"BICGSTAB\",\n",
        "        scaling_method=\"NONE\",\n",
        "        reordering_method=\"NONE\",\n",
        "        relaxation_factor=relax,\n",
        "        filename=\"{}.ims\".format(gwtname),\n",
        "    )\n",
        "    sim.register_ims_package(imsgwt, [gwt.name])\n",
        "\n",
        "    # 离散化\n",
        "    flopy.mf6.ModflowGwtdis(\n",
        "        gwt,\n",
        "        nlay=nlay,\n",
        "        nrow=nrow,\n",
        "        ncol=ncol,\n",
        "        delr=delr,\n",
        "        delc=delc,\n",
        "        top=top,\n",
        "        botm=botm,\n",
        "        idomain=idomain,\n",
        "        filename=\"{}.dis\".format(gwtname),\n",
        "    )\n",
        "\n",
        "    # 初始浓度\n",
        "    flopy.mf6.ModflowGwtic(\n",
        "        gwt, strt=sconc, filename=\"{}.ic\".format(gwtname)\n",
        "    )\n",
        "\n",
        "    # 对流\n",
        "    flopy.mf6.ModflowGwtadv(\n",
        "        gwt, scheme=\"UPSTREAM\", filename=\"{}.adv\".format(gwtname)\n",
        "    )\n",
        "\n",
        "    # 弥散\n",
        "    flopy.mf6.ModflowGwtdsp(\n",
        "        gwt,\n",
        "        alh=al,\n",
        "        ath1=ath1,\n",
        "        atv=atv,\n",
        "        filename=\"{}.dsp\".format(gwtname),\n",
        "    )\n",
        "\n",
        "    # 化学反应 (等同于 MT3DMS 的 reaction)\n",
        "    flopy.mf6.ModflowGwtmst(\n",
        "        gwt,\n",
        "        porosity=porosity,\n",
        "        first_order_decay=False,\n",
        "        decay=None,\n",
        "        decay_sorbed=None,\n",
        "        sorption=None,\n",
        "        bulk_density=None,\n",
        "        distcoef=None,\n",
        "        filename=\"{}.mst\".format(gwtname),\n",
        "    )\n",
        "\n",
        "    # 源汇项\n",
        "    sourcerecarray = [\n",
        "        (\"WEL-1\", \"AUX\", \"CONCENTRATION\"),\n",
        "        (\"CHD-1\", \"AUX\", \"CONCENTRATION\"),\n",
        "    ]\n",
        "    flopy.mf6.ModflowGwtssm(\n",
        "        gwt, sources=sourcerecarray, filename=\"{}.ssm\".format(gwtname)\n",
        "    )\n",
        "\n",
        "    # 输出控制\n",
        "    flopy.mf6.ModflowGwtoc(\n",
        "        gwt,\n",
        "        budget_filerecord=\"{}.cbc\".format(gwtname),\n",
        "        concentration_filerecord=\"{}.ucn\".format(gwtname),\n",
        "        concentrationprintrecord=[\n",
        "            (\"COLUMNS\", 10, \"WIDTH\", 15, \"DIGITS\", 6, \"GENERAL\")\n",
        "        ],\n",
        "        saverecord=[(\"CONCENTRATION\", \"ALL\"), (\"BUDGET\", \"ALL\")],\n",
        "        printrecord=[(\"CONCENTRATION\", \"ALL\"), (\"BUDGET\", \"ALL\")],\n",
        "    )\n",
        "\n",
        "    # GWF 和 GWT 之间的交换\n",
        "    flopy.mf6.ModflowGwfgwt(\n",
        "        sim,\n",
        "        exgtype=\"GWF6-GWT6\",\n",
        "        exgmnamea=gwfname,\n",
        "        exgmnameb=gwtname,\n",
        "        filename=\"{}.gwfgwt\".format(sim_name),\n",
        "    )\n",
        "    return sim, gwf, gwt, dis6\n",
        "\n",
        "sim, gwf, gwt, dis6 = build_model()\n",
        "sim.write_simulation(silent = True)\n",
        "\n",
        "success, buff = sim.run_simulation(silent = True)\n",
        "if not success:\n",
        "    raise Exception(\"MODFLOW 6 did not terminate normally.\")"
      ]
    },
    {
      "cell_type": "markdown",
      "metadata": {
        "id": "4pODHWf1L1oA"
      },
      "source": [
        "## 查看结果"
      ]
    },
    {
      "cell_type": "code",
      "execution_count": 97,
      "metadata": {
        "colab": {
          "background_save": true
        },
        "id": "dC0sz_QsL6ve",
        "outputId": "422412b1-e0d4-4196-ade6-8239dd581b62"
      },
      "outputs": [
        {
          "name": "stdout",
          "output_type": "stream",
          "text": [
            "(10, 4, 213, 283)\n",
            "(10, 4, 213, 283)\n"
          ]
        }
      ],
      "source": [
        "# 运行完毕后，分别读取水头和浓度结果（我们使用 get_alldata 读取了全部时刻的结果）:\n",
        "\n",
        "head = gwf.oc.output.head().get_alldata()\n",
        "concentration = gwt.oc.output.concentration().get_alldata()\n",
        "\n",
        "# 我们可以查看结果的维度:\n",
        "\n",
        "print(head.shape)\n",
        "print(concentration.shape)\n",
        "\n",
        "# 10: 时间 - nstp 值。\n",
        "# (8, 15, 21): 网格空间"
      ]
    },
    {
      "cell_type": "markdown",
      "metadata": {},
      "source": [
        "## 绘图 flopy.plot.PlotMapView"
      ]
    },
    {
      "cell_type": "code",
      "execution_count": 109,
      "metadata": {
        "colab": {
          "background_save": true
        },
        "id": "lptJkhihMAmV",
        "outputId": "d0d3afc0-ed5e-4dd9-d140-59da62ba1a9f"
      },
      "outputs": [
        {
          "data": {
            "image/png": "[encoded data removed]",
            "text/plain": [
              "<Figure size 1400x600 with 2 Axes>"
            ]
          },
          "metadata": {},
          "output_type": "display_data"
        }
      ],
      "source": [
        "import matplotlib.pyplot as plt\n",
        "def plot_results(model, result):\n",
        "    fig = plt.figure(figsize = (14, 6))\n",
        "    ax = fig.add_subplot(1, 1, 1)\n",
        "    pmv = flopy.plot.PlotMapView(model = model, ax = ax, layer = 0)\n",
        "    pmv.plot_grid(ax = ax, color = \".5\", alpha = 0.2) # 绘制网格\n",
        "    \n",
        "    # 网格填充颜色\n",
        "    plot_array = pmv.plot_array(head[9,0], masked_values = [1e30], cmap = 'bwr')\n",
        "    plt.colorbar(plot_array)\n",
        "    \n",
        "    # 绘制等值线\n",
        "    plot_contour_array = pmv.contour_array(result, masked_values = [1e30], cmap = \"brg\", linestyles=\"--\")\n",
        "    plt.clabel(plot_contour_array, fmt = r'%.2f') # 绘制等值线上文本标注\n",
        "    # plt.colorbar(plot_contour_array)              # 等值线图例\n",
        "    \n",
        "    pmv.plot_bc(package = gwf.get_package(\"WEL-1\"), color = 'green')\n",
        "    pmv.plot_inactive(ibound = gwf.modelgrid.idomain, color_noflow = 'black')\n",
        "    \n",
        "    # 绘制水流的方向 (粉红色箭头)\n",
        "    spdis = gwf.oc.output.budget().get_data(text = 'DATA-SPDIS')[0]\n",
        "    qx, qy, qz = flopy.utils.postprocessing.get_specific_discharge(spdis, gwf)\n",
        "    pmv.plot_vector(qx, qy, normalize = True, istep = 10, jstep = 10, color = \"pink\")\n",
        "    \n",
        "plot_results(model = gwf, result = head[9,0])"
      ]
    },
    {
      "cell_type": "markdown",
      "metadata": {},
      "source": [
        "# Folium"
      ]
    },
    {
      "cell_type": "code",
      "execution_count": 145,
      "metadata": {},
      "outputs": [
        {
          "name": "stdout",
          "output_type": "stream",
          "text": [
            "          lon        lat  Head\n",
            "0  121.049864  32.551416     5\n",
            "1  120.981464  32.567225    10\n",
            "2\n",
            "[32.55141649 32.567225  ]\n",
            "[121.0498645 120.981464 ]\n",
            "[ 5. 10.]\n"
          ]
        },
        {
          "data": {
            "text/plain": [
              "False"
            ]
          },
          "execution_count": 145,
          "metadata": {},
          "output_type": "execute_result"
        }
      ],
      "source": [
        "import numpy as np\n",
        "import pandas as pd\n",
        "import folium\n",
        "import webbrowser\n",
        "from folium.plugins import HeatMap\n",
        " \n",
        " \n",
        "# # 读取csv文件,以Dataframe形式保存\n",
        "# df = pd.read_csv(\"/home/nandahgy/坐标test.csv\")\n",
        "# print(df)\n",
        "# # 获取数据个数\n",
        "# num = df.shape[0]\n",
        "# print(num)\n",
        "# # 获取纬度\n",
        "# lat = np.array(df[\"lat\"][0:num])\n",
        "# print(lat)\n",
        "# # 获取经度\n",
        "# lon = np.array(df[\"lon\"][0:num])\n",
        "# print(lon)\n",
        "# # 获取PM2.5，转化为numpy浮点型\n",
        "# pm25 = np.array(df[\"Head\"][0:num], dtype=float)\n",
        "# print(pm25)\n",
        "# # 将数据制作成[lats, lons, weights]的形式\n",
        "# data1 = [[lat[i], lon[i], pm25[i]] for i in range(num)]\n",
        "# # 绘制Map，中心经纬度[32, 120],开始缩放程度是5倍\n",
        "# map_osm = folium.Map(location=[32.55141649, 121.0498645], zoom_start=12)\n",
        "# # 将热力图添加到前面建立的map里\n",
        "# HeatMap(data1).add_to(map_osm)\n",
        " \n",
        "# file_path = \"/home/nandahgy/AirQualityMap.html\"\n",
        "# # 保存为html文件\n",
        "# map_osm.save(file_path)\n",
        "# # 默认浏览器打开\n",
        "# webbrowser.open(file_path)"
      ]
    },
    {
      "cell_type": "code",
      "execution_count": 160,
      "metadata": {},
      "outputs": [
        {
          "name": "stdout",
          "output_type": "stream",
          "text": [
            "(214, 284)\n",
            "(214, 284)\n",
            "(213, 283)\n"
          ]
        }
      ],
      "source": [
        "print(gwf.modelgrid.xvertices.shape)\n",
        "print(gwf.modelgrid.yvertices.shape)\n",
        "print(head[9,0].shape)"
      ]
    },
    {
      "cell_type": "code",
      "execution_count": 162,
      "metadata": {},
      "outputs": [],
      "source": [
        "xvertice = gwf.modelgrid.xvertices\n",
        "yvertice = gwf.modelgrid.yvertices\n"
      ]
    },
    {
      "cell_type": "code",
      "execution_count": 165,
      "metadata": {},
      "outputs": [
        {
          "name": "stdout",
          "output_type": "stream",
          "text": [
            "[[1.e+30 1.e+30 1.e+30 ... 1.e+30 1.e+30 1.e+30]\n",
            " [1.e+30 1.e+30 1.e+30 ... 1.e+30 1.e+30 1.e+30]\n",
            " [1.e+30 1.e+30 1.e+30 ... 1.e+30 1.e+30 1.e+30]\n",
            " ...\n",
            " [1.e+30 1.e+30 1.e+30 ... 1.e+30 1.e+30 1.e+30]\n",
            " [1.e+30 1.e+30 1.e+30 ... 1.e+30 1.e+30 1.e+30]\n",
            " [1.e+30 1.e+30 1.e+30 ... 1.e+30 1.e+30 1.e+30]]\n"
          ]
        }
      ],
      "source": [
        "print(head[9,0])"
      ]
    },
    {
      "cell_type": "code",
      "execution_count": null,
      "metadata": {},
      "outputs": [],
      "source": [
        "import sys\n",
        "import time\n",
        "f=open(\"myprint.txt\",\"w+\")\n",
        "sys.stdout=f\n",
        "\n",
        "data1 = []\n",
        "for i in range(0,nrow,3):\n",
        "      for j in range(0,ncol,3):\n",
        "            y0 = yvertice[i,j]\n",
        "            x0 = xvertice[i,j]\n",
        "            headGIS = head[9,0][i,j]\n",
        "            if headGIS != 1e30:\n",
        "                  x_WGS84, y_WGS84 = CGCS2000_WGS84(x0 + X_DIFF, y0 + Y_DIFF)\n",
        "            data1.append([y_WGS84,x_WGS84,headGIS])\n",
        "            \n",
        "map_osm2 = folium.Map(location=[32.55141649, 121.0498645], zoom_start=12)\n",
        "HeatMap(data1).add_to(map_osm2)\n",
        "file_path = \"/home/nandahgy/HeadGisMap.html\"\n",
        "# 保存为html文件\n",
        "map_osm2.save(file_path)\n",
        "# 默认浏览器打开\n",
        "webbrowser.open(file_path)\n"
      ]
    },
    {
      "cell_type": "markdown",
      "metadata": {
        "id": "hLYvUW12Ix_A"
      },
      "source": [
        "# MODPATH7 Model"
      ]
    },
    {
      "cell_type": "code",
      "execution_count": null,
      "metadata": {
        "colab": {
          "background_save": true
        },
        "id": "Hlz98tMPN3yr"
      },
      "outputs": [],
      "source": [
        "# Define names for the MODPATH 7 simulations\n",
        "mp_namea = sim_name + \"a_mp\"\n",
        "mp_nameb = sim_name + \"b_mp\""
      ]
    },
    {
      "cell_type": "code",
      "execution_count": null,
      "metadata": {
        "colab": {
          "background_save": true
        },
        "id": "_P35lMTLOC2j"
      },
      "outputs": [
        {
          "name": "stdout",
          "output_type": "stream",
          "text": [
            "pcoord.shape[0]: 16\n",
            "plocs: [(2, 100, 100), (2, 100, 100), (2, 100, 100), (2, 100, 100), (2, 100, 100), (2, 100, 100), (2, 100, 100), (2, 100, 100), (2, 100, 100), (2, 100, 100), (2, 100, 100), (2, 100, 100), (2, 100, 100), (2, 100, 100), (2, 100, 100), (2, 100, 100)]\n",
            "pcoord[:, 0]: [0.    0.    0.    0.    1.    1.    1.    1.    0.125 0.375 0.625 0.875\n",
            " 0.125 0.375 0.625 0.875]\n",
            "pcoord[:, 1]: [0.125 0.375 0.625 0.875 0.125 0.375 0.625 0.875 0.    0.    0.    0.\n",
            " 1.    1.    1.    1.   ]\n",
            "pcoord[:, 2]: [0.5 0.5 0.5 0.5 0.5 0.5 0.5 0.5 0.5 0.5 0.5 0.5 0.5 0.5 0.5 0.5]\n"
          ]
        }
      ],
      "source": [
        "pcoord = np.array(\n",
        "    [\n",
        "        [0.000, 0.125, 0.500],\n",
        "        [0.000, 0.375, 0.500],\n",
        "        [0.000, 0.625, 0.500],\n",
        "        [0.000, 0.875, 0.500],\n",
        "        [1.000, 0.125, 0.500],\n",
        "        [1.000, 0.375, 0.500],\n",
        "        [1.000, 0.625, 0.500],\n",
        "        [1.000, 0.875, 0.500],\n",
        "        [0.125, 0.000, 0.500],\n",
        "        [0.375, 0.000, 0.500],\n",
        "        [0.625, 0.000, 0.500],\n",
        "        [0.875, 0.000, 0.500],\n",
        "        [0.125, 1.000, 0.500],\n",
        "        [0.375, 1.000, 0.500],\n",
        "        [0.625, 1.000, 0.500],\n",
        "        [0.875, 1.000, 0.500],\n",
        "    ]\n",
        ")\n",
        "print(\"pcoord.shape[0]:\",pcoord.shape[0])\n",
        "# pcoord.shape[0]\n",
        "\n",
        "nodew = (2, 100, 100)\n",
        "plocs = [nodew for i in range(pcoord.shape[0])]\n",
        "print(\"plocs:\", plocs)\n",
        "# create particle data\n",
        "pa = flopy.modpath.ParticleData(\n",
        "    plocs,\n",
        "    structured=True,\n",
        "    localx=pcoord[:, 0],\n",
        "    localy=pcoord[:, 1],\n",
        "    localz=pcoord[:, 2],\n",
        "    drape=0,\n",
        ")\n",
        "print(\"pcoord[:, 0]:\",pcoord[:, 0])\n",
        "print(\"pcoord[:, 1]:\",pcoord[:, 1])\n",
        "print(\"pcoord[:, 2]:\",pcoord[:, 2])\n",
        "\n",
        "# create backward particle group\n",
        "fpth = mp_namea + \".sloc\"\n",
        "pga = flopy.modpath.ParticleGroup(\n",
        "    particlegroupname=\"BACKWARD1\", particledata=pa, filename=fpth\n",
        ")"
      ]
    },
    {
      "cell_type": "code",
      "execution_count": null,
      "metadata": {
        "colab": {
          "background_save": true
        },
        "id": "5Z8vUZoHP13B",
        "outputId": "1a1dda7c-c067-4b81-bffd-a40d9cb33fa2"
      },
      "outputs": [
        {
          "name": "stdout",
          "output_type": "stream",
          "text": [
            "FloPy is using the following executable to run the model: /usr/local/lib/modflow/mp7\n",
            "\n",
            "MODPATH Version 7.2.001   \n",
            "Program compiled Mar 08 2022 20:16:00 with IFORT compiler (ver. 20.21.5)        \n",
            " \n",
            " \n",
            "Run particle tracking simulation ...\n",
            "Processing Time Step     1 Period     1.  Time =  1.00000E+01  Steady-state flow                                                    \n",
            "\n",
            "Particle Summary:\n",
            "         0 particles are pending release.\n",
            "         0 particles remain active.\n",
            "         0 particles terminated at boundary faces.\n",
            "         0 particles terminated at weak sink cells.\n",
            "         0 particles terminated at weak source cells.\n",
            "        16 particles terminated at strong source/sink cells.\n",
            "         0 particles terminated in cells with a specified zone number.\n",
            "         0 particles were stranded in inactive or dry cells.\n",
            "         0 particles were unreleased.\n",
            "         0 particles have an unknown status.\n",
            " \n",
            "Normal termination.                                                        \n"
          ]
        },
        {
          "data": {
            "text/plain": [
              "(True, [])"
            ]
          },
          "execution_count": 56,
          "metadata": {},
          "output_type": "execute_result"
        }
      ],
      "source": [
        "model_ws = sim_ws\n",
        "# create modpath files\n",
        "mp = flopy.modpath.Modpath7(\n",
        "    modelname=mp_namea, flowmodel=gwf, exe_name=\"/usr/local/lib/modflow/mp7\", model_ws=model_ws\n",
        ")\n",
        "flopy.modpath.Modpath7Bas(mp, porosity=porosity)\n",
        "flopy.modpath.Modpath7Sim(\n",
        "    mp,\n",
        "    simulationtype=\"combined\",\n",
        "    trackingdirection=\"backward\",\n",
        "    weaksinkoption=\"pass_through\",\n",
        "    weaksourceoption=\"pass_through\",\n",
        "    referencetime=0.0,\n",
        "    stoptimeoption=\"extend\",\n",
        "    timepointdata=[500, 1000.0],\n",
        "    particlegroups=pga,\n",
        ")\n",
        "\n",
        "# write modpath datasets\n",
        "mp.write_input()\n",
        "\n",
        "# run modpath\n",
        "mp.run_model()"
      ]
    },
    {
      "cell_type": "markdown",
      "metadata": {
        "id": "wbh8wGlSQzrR"
      },
      "source": [
        "加载pathline和timeseries数据"
      ]
    },
    {
      "cell_type": "code",
      "execution_count": null,
      "metadata": {
        "colab": {
          "background_save": true
        },
        "id": "1GrU_6yvMCyS"
      },
      "outputs": [],
      "source": [
        "import os"
      ]
    },
    {
      "cell_type": "code",
      "execution_count": null,
      "metadata": {},
      "outputs": [],
      "source": [
        "import pandas"
      ]
    },
    {
      "cell_type": "code",
      "execution_count": null,
      "metadata": {
        "colab": {
          "background_save": true
        },
        "id": "4u7XDXdJQnUK"
      },
      "outputs": [],
      "source": [
        "fpth = os.path.join(model_ws, mp_namea + \".mppth\")\n",
        "p = flopy.utils.PathlineFile(fpth)\n",
        "p0 = p.get_alldata()\n",
        "fpth = os.path.join(model_ws, mp_namea + \".timeseries\")\n",
        "ts = flopy.utils.TimeseriesFile(fpth)\n",
        "ts0 = ts.get_alldata()"
      ]
    },
    {
      "cell_type": "code",
      "execution_count": null,
      "metadata": {
        "colab": {
          "background_save": true
        },
        "id": "GZyAFr7cHocp"
      },
      "outputs": [],
      "source": [
        "# 画出endpoint\n",
        "fpth = os.path.join(model_ws, mp_namea + \".mpend\")\n",
        "e = flopy.utils.EndpointFile(fpth)\n",
        "e0 = e.get_alldata()"
      ]
    },
    {
      "cell_type": "markdown",
      "metadata": {
        "id": "F5pWanuHH1Jb"
      },
      "source": [
        "## 画出endpoint"
      ]
    },
    {
      "cell_type": "code",
      "execution_count": null,
      "metadata": {
        "colab": {
          "background_save": true
        },
        "id": "gSR0Ccs2HqnF",
        "outputId": "bfc4cdb3-d7a7-48f1-c4bc-43edbcc4952a"
      },
      "outputs": [
        {
          "data": {
            "image/png": "[encoded data removed]",
            "text/plain": [
              "<Figure size 1300x1300 with 2 Axes>"
            ]
          },
          "metadata": {},
          "output_type": "display_data"
        }
      ],
      "source": [
        "import matplotlib as mpl\n",
        "fig = plt.figure(figsize=(13, 13), constrained_layout=True)\n",
        "ax = fig.add_subplot(1, 1, 1, aspect=\"equal\")\n",
        "mm = flopy.plot.PlotMapView(modelgrid=gwf.modelgrid, ax=ax)\n",
        "ax.set_xlim(0, Lx)\n",
        "ax.set_ylim(0, Ly)\n",
        "cmap = mpl.colors.ListedColormap(\n",
        "    [\n",
        "        \"r\",\n",
        "        \"g\",\n",
        "    ]\n",
        ")\n",
        "pmv = flopy.plot.PlotMapView(model = gwf, ax = ax, layer = 0)\n",
        "plot_array = pmv.plot_array(head[9,0], masked_values = [1e30], cmap = 'bwr')\n",
        "# plt.colorbar(plot_array)\n",
        "v = mm.plot_array(idomain[0], cmap=cmap, edgecolor=\"gray\")\n",
        "mm.plot_endpoint(e0, direction=\"ending\", colorbar=True, shrink=0.5);"
      ]
    },
    {
      "cell_type": "markdown",
      "metadata": {
        "id": "trOAWmlGQ2yB"
      },
      "source": [
        "## 画出pathline和timeseries数据"
      ]
    },
    {
      "cell_type": "code",
      "execution_count": null,
      "metadata": {
        "colab": {
          "background_save": true
        },
        "id": "-0DDgqX4Tv_e",
        "outputId": "c1f48071-3cbd-40ef-ad8e-66bb080795a0"
      },
      "outputs": [
        {
          "name": "stderr",
          "output_type": "stream",
          "text": [
            "/usr/local/lib/python3.9/dist-packages/flopy/plot/map.py:243: UserWarning: No contour levels were found within the data range.\n",
            "  contour_set = ax.tricontour(triang, plotarray, **kwargs)\n"
          ]
        },
        {
          "data": {
            "text/plain": [
              "<matplotlib.collections.QuadMesh at 0x7f82abe9bac0>"
            ]
          },
          "execution_count": 62,
          "metadata": {},
          "output_type": "execute_result"
        },
        {
          "data": {
            "image/png": "[encoded data removed]",
            "text/plain": [
              "<Figure size 800x800 with 1 Axes>"
            ]
          },
          "metadata": {},
          "output_type": "display_data"
        }
      ],
      "source": [
        "import matplotlib as mpl\n",
        "fig = plt.figure(figsize=(8, 8), constrained_layout=True)\n",
        "ax = fig.add_subplot(1, 1, 1, aspect=\"equal\")\n",
        "mm = flopy.plot.PlotMapView(modelgrid=gwf.modelgrid, ax=ax)\n",
        "# pmv = flopy.plot.PlotMapView(model = gwf, ax = ax, layer = 0)\n",
        "# mm.plot_grid(ax = ax, color = \".5\", alpha = 0.2) # 绘制网格\n",
        "ax.set_xlim(0, Lx)\n",
        "ax.set_ylim(0, Ly)\n",
        "cmap = mpl.colors.ListedColormap(\n",
        "    [\n",
        "        \"r\",\n",
        "        \"g\",\n",
        "    ]\n",
        ")\n",
        "v = mm.plot_array(gwf.modelgrid.idomain, cmap=cmap, edgecolor=\"white\")\n",
        "mm.plot_pathline(p0, layer=\"all\", color=\"blue\", lw=0.75)\n",
        "colors = [\"green\", \"orange\", \"red\",\"blue\"]\n",
        "for k in range(nlay):\n",
        "    mm.plot_timeseries(ts0, layer=k, marker=\"o\", lw=0, color=colors[k]);\n",
        "\n",
        "# 绘制等值线\n",
        "plot_contour_array = mm.contour_array(concentration[9,0], masked_values = [1e30], cmap = \"brg\", linestyles=\"--\")\n",
        "plt.clabel(plot_contour_array, fmt = r'%.2f') # 绘制等值线上文本标注\n",
        "# plt.colorbar(plot_contour_array)              # 等值线图例\n",
        "\n",
        "mm.plot_bc(package = gwf.get_package(\"WEL-1\"), color = 'green')\n",
        "mm.plot_inactive(ibound = gwf.modelgrid.idomain, color_noflow = 'black')\n",
        "\n"
      ]
    },
    {
      "cell_type": "markdown",
      "metadata": {},
      "source": [
        "# 坐标系转换投影"
      ]
    },
    {
      "cell_type": "code",
      "execution_count": null,
      "metadata": {},
      "outputs": [],
      "source": [
        "# pip install pyproj"
      ]
    },
    {
      "cell_type": "code",
      "execution_count": null,
      "metadata": {},
      "outputs": [],
      "source": [
        "from pyproj import CRS\n",
        "from pyproj import Transformer\n",
        "def marcator(x,y):\n",
        "    lonlat = {}\n",
        "    # CGCS2000_3_Degree_GK_Zone_40 的wkid\n",
        "    crs_CGCS2000 = CRS.from_epsg(4528)\n",
        "    # crs_CGCS2000 = CRS.from_wkt('PROJCS[\"CGCS2000_3_Degree_GK_Zone_40\",GEOGCS[\"GCS_China_Geodetic_Coordinate_System_2000\",DATUM[\"D_China_2000\",'\n",
        "    #                             'SPHEROID[\"CGCS2000\",6378137.0,298.257222101]],PRIMEM[\"Greenwich\",0.0],UNIT[\"Degree\",0.0174532925199433]],'\n",
        "    #                             'PROJECTION[\"Gauss_Kruger\"],PARAMETER[\"False_Easting\",40500000.0],PARAMETER[\"False_Northing\",0.0],'\n",
        "    #                             'PARAMETER[\"Central_Meridian\",120.0],PARAMETER[\"Scale_Factor\",1.0],PARAMETER[\"Latitude_Of_Origin\",0.0],UNIT[\"Meter\",1.0],'\n",
        "    #                             'AUTHORITY[\"EPSG\",4528]]')\n",
        "    #我们需要转换的目标坐标系的WKID\n",
        "    crs_WGS84 = CRS.from_epsg(4326)\n",
        "    from_crs = crs_CGCS2000\n",
        "    to_crs = crs_WGS84\n",
        "    transformer = Transformer.from_crs(from_crs, to_crs)\n",
        "    # 即为转换后的坐标，也可以分别使⽤数组\n",
        "    new_x, new_y = transformer.transform(x, y)\n",
        "    lonlat['x'] = new_x\n",
        "    lonlat['y'] = new_y\n",
        "    return lonlat\n"
      ]
    },
    {
      "cell_type": "code",
      "execution_count": null,
      "metadata": {},
      "outputs": [
        {
          "data": {
            "text/plain": [
              "inf"
            ]
          },
          "execution_count": 51,
          "metadata": {},
          "output_type": "execute_result"
        }
      ],
      "source": [
        "def marcator(x,y):\n",
        "    lonlat = {}\n",
        "    # CGCS2000_3_Degree_GK_Zone_40 的wkid\n",
        "    crs_CGCS2000 = CRS.from_epsg(4528)\n",
        "    # crs_CGCS2000 = CRS.from_wkt('PROJCS[\"CGCS2000_3_Degree_GK_Zone_40\",GEOGCS[\"GCS_China_Geodetic_Coordinate_System_2000\",DATUM[\"D_China_2000\",'\n",
        "    #                             'SPHEROID[\"CGCS2000\",6378137.0,298.257222101]],PRIMEM[\"Greenwich\",0.0],UNIT[\"Degree\",0.0174532925199433]],'\n",
        "    #                             'PROJECTION[\"Gauss_Kruger\"],PARAMETER[\"False_Easting\",40500000.0],PARAMETER[\"False_Northing\",0.0],'\n",
        "    #                             'PARAMETER[\"Central_Meridian\",120.0],PARAMETER[\"Scale_Factor\",1.0],PARAMETER[\"Latitude_Of_Origin\",0.0],UNIT[\"Meter\",1.0],'\n",
        "    #                             'AUTHORITY[\"EPSG\",4528]]')\n",
        "    #我们需要转换的目标坐标系的WKID\n",
        "    crs_WGS84 = CRS.from_epsg(4326)\n",
        "    from_crs = crs_WGS84\n",
        "    to_crs = crs_CGCS2000\n",
        "    transformer = Transformer.from_crs(from_crs, to_crs)\n",
        "    # 即为转换后的坐标，也可以分别使⽤数组\n",
        "    new_x, new_y = transformer.transform(x, y)\n",
        "    lonlat['x'] = new_x\n",
        "    lonlat['y'] = new_y\n",
        "    return lonlat\n",
        "lonlat = marcator(121.028313,32.526987)\n",
        "lonlat['x']\n"
      ]
    },
    {
      "cell_type": "code",
      "execution_count": null,
      "metadata": {},
      "outputs": [],
      "source": [
        "lonlat"
      ]
    },
    {
      "cell_type": "code",
      "execution_count": null,
      "metadata": {},
      "outputs": [],
      "source": [
        "import math"
      ]
    },
    {
      "cell_type": "code",
      "execution_count": null,
      "metadata": {},
      "outputs": [],
      "source": [
        "def LBH2XYZ(L: float, B: float, H: float, coorSys: str):\n",
        "    \"\"\"\n",
        "    经纬高转地心XYZ\n",
        "    :param L: 经度,单位°\n",
        "    :param B: 纬度（地理纬度），单位°\n",
        "    :param H: 高度，单位m\n",
        "    :param coorSys 坐标系选择，参数可以为\"wgs84\"、\"cgcs2000\"，\n",
        "    两种坐标系所采取的椭圆半长轴均为6378137m，扁率不同，\n",
        "    wgs84的扁率为1/298.257223564，半短轴为6356752.314245251，偏心率e为0.08181919084248535\n",
        "    cgcs2000的扁率为1/298.257222101，半短轴为6356752.314140356，偏心率e为0.08181919104281517\n",
        "    :return: 地心XYZ 单位m\n",
        "    \"\"\"\n",
        "    L = L / 180 * math.pi  # 先转为弧度\n",
        "    B = B / 180 * math.pi  # 先转为弧度\n",
        "\n",
        "    a = 6378137  # 半长轴\n",
        "    if coorSys == \"wgs84\":\n",
        "        e = 0.08181919084248535\n",
        "    elif coorSys == \"cgcs2000\":\n",
        "        e = 0.08181919104281517\n",
        "    N = a / math.sqrt(1 - math.pow(e, 2) * math.pow(math.sin(B), 2))\n",
        "\n",
        "    X = (N + H) * math.cos(B) * math.cos(L)\n",
        "    Y = (N + H) * math.cos(B) * math.sin(L)\n",
        "    Z = (N * (1 - math.pow(e, 2)) + H) * math.sin(B)\n",
        "\n",
        "    return X, Y, Z\n",
        "\n",
        "def XYZ2LBH(X: float, Y: float, Z: float, coorSys: str):\n",
        "    \"\"\"\n",
        "    地心非惯性坐标系（地固系）XYZ转换为LBH\n",
        "    :param X: X轴刻度值，单位m\n",
        "    :param Y: Y轴刻度值，单位m\n",
        "    :param Z: Z轴刻度值，单位m\n",
        "    :param coorSys: 坐标系选择，参数可以为\"wgs84\"、\"cgcs2000\"，\n",
        "    :return: LBH  单位°、m\n",
        "    \"\"\"\n",
        "\n",
        "    a = 6378137  # 半长轴\n",
        "    if coorSys == \"wgs84\":\n",
        "        e = 0.08181919084248535\n",
        "    elif coorSys == \"cgcs2000\":\n",
        "        e = 0.08181919104281517\n",
        "\n",
        "    L = math.atan(Y / X) / math.pi * 180\n",
        "\n",
        "    tB = 0\n",
        "\n",
        "    N = a / math.sqrt(1 - math.pow(e, 2) * math.pow(math.sin(tB), 2))\n",
        "\n",
        "    B = math.atan((Z + N * math.pow(e, 2) * math.sin(tB)) / math.sqrt(X * X + Y * Y))\n",
        "\n",
        "    while B - tB > 0.00000001:\n",
        "        tB = B\n",
        "        N = a / math.sqrt(1 - math.pow(e, 2) * math.pow(math.sin(tB), 2))\n",
        "        B = math.atan((Z + N * math.pow(e, 2) * math.sin(tB)) / math.sqrt(X * X + Y * Y))\n",
        "\n",
        "    H = Z / math.sin(B) - N * (1 - e * e)\n",
        "    B = B / math.pi * 180\n",
        "\n",
        "    return L, B, H\n",
        "\n",
        "X, Y, Z = LBH2XYZ(121.028313,32.526987,0,\"wgs84\")\n",
        "L, B, H = LBH2XYZ(498149,3604810,0,\"cgcs2000\")"
      ]
    },
    {
      "cell_type": "code",
      "execution_count": null,
      "metadata": {},
      "outputs": [
        {
          "name": "stdout",
          "output_type": "stream",
          "text": [
            "-2774659.168549471 4612643.718194664 3409846.8463238534\n"
          ]
        }
      ],
      "source": [
        "print(X, Y, Z)"
      ]
    },
    {
      "cell_type": "markdown",
      "metadata": {},
      "source": [
        "## 这个代码貌似可以跑"
      ]
    },
    {
      "cell_type": "code",
      "execution_count": null,
      "metadata": {},
      "outputs": [
        {
          "name": "stdout",
          "output_type": "stream",
          "text": [
            "对应的网格坐标: 504590 3603118\n",
            "对应的WGS坐标: 120.981464 32.567225\n"
          ]
        },
        {
          "name": "stderr",
          "output_type": "stream",
          "text": [
            "/home/nandahgy/.local/lib/python3.9/site-packages/pyproj/crs/crs.py:141: FutureWarning: '+init=<authority>:<code>' syntax is deprecated. '<authority>:<code>' is the preferred initialization method. When making the change, be mindful of axis order changes: https://pyproj4.github.io/pyproj/stable/gotchas.html#axis-order-changes-in-proj-6\n",
            "  in_crs_string = _prepare_from_proj_string(in_crs_string)\n",
            "/home/nandahgy/.local/lib/python3.9/site-packages/pyproj/crs/crs.py:141: FutureWarning: '+init=<authority>:<code>' syntax is deprecated. '<authority>:<code>' is the preferred initialization method. When making the change, be mindful of axis order changes: https://pyproj4.github.io/pyproj/stable/gotchas.html#axis-order-changes-in-proj-6\n",
            "  in_crs_string = _prepare_from_proj_string(in_crs_string)\n",
            "/tmp/ipykernel_1255/4273154816.py:24: DeprecationWarning: This function is deprecated. See: https://pyproj4.github.io/pyproj/stable/gotchas.html#upgrading-to-pyproj-2-from-pyproj-1\n",
            "  x_prj, y_prj = transform(p1, p2, x, y)\n",
            "/home/nandahgy/.local/lib/python3.9/site-packages/pyproj/crs/crs.py:141: FutureWarning: '+init=<authority>:<code>' syntax is deprecated. '<authority>:<code>' is the preferred initialization method. When making the change, be mindful of axis order changes: https://pyproj4.github.io/pyproj/stable/gotchas.html#axis-order-changes-in-proj-6\n",
            "  in_crs_string = _prepare_from_proj_string(in_crs_string)\n"
          ]
        }
      ],
      "source": []
    },
    {
      "cell_type": "code",
      "execution_count": null,
      "metadata": {},
      "outputs": [
        {
          "name": "stdout",
          "output_type": "stream",
          "text": [
            "[sudo] password for nandahgy: \n"
          ]
        }
      ],
      "source": [
        "!sudo chmod -R 777 /home/nandahgy/geotransform"
      ]
    },
    {
      "cell_type": "markdown",
      "metadata": {},
      "source": [
        "## Github上抄了/home/nandahgy/geotransform"
      ]
    },
    {
      "cell_type": "code",
      "execution_count": null,
      "metadata": {},
      "outputs": [
        {
          "name": "stdout",
          "output_type": "stream",
          "text": [
            "转换点数：202，耗时：0.114S\n",
            "生成 transformer 个数：1\n",
            "\t axis order change (2D) + Ballpark geographic offset from WGS 84 to Xian 1980 + 3-degree Gauss-Kruger zone 38 + axis order change (2D)\n"
          ]
        }
      ],
      "source": [
        "# -*- encoding: utf-8 -*-\n",
        "\"\"\"\n",
        "中国常用大地测量（投影）坐标系转换（标准转换，不涉及使用7参数平移、旋转、缩放）。\n",
        "主要有wgs84、西安80、北京54、新北京、cgcs2000等我国常用坐标系之间的相互转换。\n",
        "本模块是对 pyproj 中的相关方法进行了二次封装，以方便使用！采用epsg中记录的各个坐标系参数\n",
        "pyproj 官方文档：http://pyproj4.github.io/pyproj/stable/\n",
        "note：pyproj 通过 crs 生成transformer 是非常耗时的操作，经测试\n",
        "    AMD Ryzen 5 2500U with Radeon Vega Mobile G方向 2.00GHz平台，\n",
        "    创建一个需要0.2~0.3秒。在批量转换的任务中，如果对每个点生成一个transformer，效率是不能接受的！\n",
        "    考虑到，一个确定的转换任务中，需要重新生成transformer的地方在：输入点位于不同投影分度带。\n",
        "    这里采用的策略是借助单例设计模式的思想，在批量转换的时候，先获取某个点转换的特征：\n",
        "        1、输入坐标projection\n",
        "        2、输入坐标中央经线\n",
        "        3、输入坐标是否带有分度带带号\n",
        "        4、输出坐标的projection\n",
        "        5、输出坐标中央经线\n",
        "        6、输出坐标是否带有分度带带号\n",
        "    根据这些特征可以唯一的描述一个transformer，可以根据这些特征，生成一个transformer_key，\n",
        "    用transformer_key作为键将transformer对象保存至字典中，在生成transformer之前检查拥有此特征的transformer是否已经生成，\n",
        "    如果已经生成则直接返回，如果未生成，则生成。\n",
        "    因为每次批量转换的任务所涉及的范围一般不会跨几个分度带，因此不会生成特别多的transformer，所以空间占用和\n",
        "    整体的时间效率都能接受。\n",
        "\"\"\"\n",
        "from pyproj import Transformer, CRS\n",
        "    \n",
        "    \n",
        "class Epsg(object):\n",
        "    \"\"\"\n",
        "    获取CRS（coordinate reference system）\n",
        "    类方法的名称有特殊含义，后续计算需要用到方法名。\n",
        "    所有获取CRS的类方法均有以下两个参数，其中当CRS为经纬度坐标时，这两个参数仅为占位参数，\n",
        "    不起任何作用，只是为了参数统一方便回调：\n",
        "        lng：float 坐标经度或者坐标点所在分度带的中央经线值（用来确定坐标点所在分度带号，以返回正确的CRS）\n",
        "        with_zone：指定坐标是否带有所在分度带的带号，默认为False（True：带有带号，False：不带）\n",
        "    \"\"\"\n",
        "    @staticmethod\n",
        "    def crs(epsg_code, index=None, lng_0=None):\n",
        "        crs = CRS.from_epsg(epsg_code)\n",
        "        crs.index = index\n",
        "        crs.lng_0 = lng_0\n",
        "        return crs\n",
        "\n",
        "    @staticmethod\n",
        "    def calc_number(lng, zone_degree):\n",
        "        return int(lng / zone_degree + zone_degree / 6)  # 带号\n",
        "\n",
        "    @classmethod\n",
        "    def calc_number_lng0(cls, lng, zone_degree):\n",
        "        number = cls.calc_number(lng, zone_degree)\n",
        "        return number, (number - 1) * zone_degree + 3  # （带号，中央经度）\n",
        "\n",
        "    @classmethod\n",
        "    def __gauss_base(cls, lng, zone_degree, code, with_zone_code, with_zone=False):\n",
        "        number, lng_0 = cls.calc_number_lng0(lng, zone_degree)\n",
        "        i = number - int(75 / zone_degree + zone_degree / 6)\n",
        "        if lng_0 - zone_degree / 2 <= lng < lng_0 + zone_degree / 2:\n",
        "            if with_zone:\n",
        "                epsg = i + with_zone_code\n",
        "            else:\n",
        "                epsg = i + code\n",
        "            return cls.crs(epsg, number, lng_0)\n",
        "        raise ValueError('lng 取值范围为：73.5~136.5')\n",
        "\n",
        "    @classmethod\n",
        "    def wgs84(cls, *args, **kwargs):\n",
        "        return cls.crs(4326)\n",
        "\n",
        "    @classmethod\n",
        "    def wgs84_3d(cls, *args, **kwargs):\n",
        "        return cls.crs(4979)\n",
        "\n",
        "    @classmethod\n",
        "    def xian80(cls, *args, **kwargs):\n",
        "        return cls.crs(4610)\n",
        "\n",
        "    @classmethod\n",
        "    def bj_new(cls, *args, **kwargs):\n",
        "        return cls.crs(4555)\n",
        "\n",
        "    @classmethod\n",
        "    def cgcs2000(cls, *args, **kwargs):\n",
        "        # return cls.crs(4490)\n",
        "        return cls.crs(4528)\n",
        "\n",
        "    @classmethod\n",
        "    def xian80_gauss_3(cls, lng, with_zone=False):\n",
        "        return cls.__gauss_base(lng, 3, 2370, 2349, with_zone)\n",
        "\n",
        "    @classmethod\n",
        "    def xian80_gauss_6(cls, lng, with_zone=False):\n",
        "        return cls.__gauss_base(lng, 6, 2338, 2327, with_zone)\n",
        "\n",
        "    @classmethod\n",
        "    def bj54_gauss_3(cls, lng, with_zone=False):\n",
        "        return cls.__gauss_base(lng, 3, 2422, 2401, with_zone)\n",
        "\n",
        "    @classmethod\n",
        "    def bj_new_gauss_3(cls, lng, with_zone=False):\n",
        "        zone_degree = 3\n",
        "        number = int(lng / zone_degree + zone_degree / 6)  # 带号\n",
        "        lng_0 = (number - 1) * zone_degree + 3  # 中央经度\n",
        "        i = number - int(75 / zone_degree + zone_degree / 6)\n",
        "        if lng_0 - zone_degree / 2 <= lng < lng_0 + zone_degree / 2:\n",
        "            if with_zone:\n",
        "                if lng_0 <= 87:\n",
        "                    epsg = i + 4652\n",
        "                else:\n",
        "                    epsg = i + 4761\n",
        "            else:\n",
        "                if lng_0 <= 129:\n",
        "                    epsg = i + 4782\n",
        "                elif lng_0 == 132:\n",
        "                    epsg = 4812\n",
        "                else:\n",
        "                    epsg = 4822\n",
        "            return cls.crs(epsg, number, lng_0)\n",
        "        raise ValueError('lng 取值范围为：73.5~136.5')\n",
        "\n",
        "    @classmethod\n",
        "    def bj_new_gauss_6(cls, lng, with_zone=False):\n",
        "        return cls.__gauss_base(lng, 6, 4579, 4568, with_zone)\n",
        "\n",
        "    @classmethod\n",
        "    def cgcs2000_gauss_3(cls, lng, with_zone=False):\n",
        "        return cls.__gauss_base(lng, 3, 4534, 4513, with_zone)\n",
        "\n",
        "    @classmethod\n",
        "    def cgcs2000_gauss_6(cls, lng, with_zone=False):\n",
        "        return cls.__gauss_base(lng, 6, 4502, 4491, with_zone)\n",
        "\n",
        "\n",
        "class TransProj(object):\n",
        "    \"\"\"经纬坐标转换为其他坐标\"\"\"\n",
        "    epsg = Epsg\n",
        "\n",
        "    def __init__(self,\n",
        "        exist_proj=None, exist_lng0=None, exist_with_zone=False,\n",
        "        target_proj=None, target_lng0=None, target_with_zone=False,\n",
        "        transformer=None\n",
        "    ):\n",
        "        \"\"\"\n",
        "        :param exist_proj: function 获取原有坐标坐标系 epsg 代码的回调函数（Epsg类方法）\n",
        "        :param exist_lng0: float 输入坐标点的中央经线经度值，不指定此值，将根据输入的值自动计算。\n",
        "                            当输入坐标为投影坐标并且不带分度带带号时，必须指定此值！\n",
        "        :param exist_with_zone: Boolean 输入坐标是否带有分度带的带号\n",
        "        :param target_proj: function 获取目标坐标坐标系 epsg 代码的回调函数（Epsg类方法）\n",
        "        :param target_lng0: float 输出坐标点的中央经线经度值，不指定此值，将根据输入的值自动计算。\n",
        "                            注意！！！\n",
        "                            保险起见，在转换经度跨度不大的批量转换时建议均指定此值，因为在批量计算中，由于点集可能位于分度带\n",
        "                            的中央经线周围，中央经线的自动计算是严格按照分度带的规定计算的，在输出投影坐标不加带号的情况下，\n",
        "                            转换后的坐标可能分不清位于哪个分度带内，导致转换后坐标点使用麻烦（某些点可能会偏移一个分度带，\n",
        "                            还需找出这些点重新指定分度带，再解算回去），因此为了统一，建议在一次批量转换过程中指定中央经线\n",
        "                            并记录此值。\n",
        "        :param target_with_zone: Boolean 输出坐标是否带有分度带的带号\n",
        "        :param transformer: obj pyproj.transformer.Transformer 自定义的转换器。\n",
        "                            当此参数赋值时，前面所有的参数将不起作用，因为前面所有参数是用来创建转换器用的\n",
        "        \"\"\"\n",
        "        self.exist_proj = exist_proj\n",
        "        self.exist_with_zone = exist_with_zone\n",
        "        self.exist_lng0 = exist_lng0\n",
        "        self.target_proj = target_proj\n",
        "        self.target_with_zone = target_with_zone\n",
        "        self.target_lng0 = target_lng0\n",
        "        self._transformer = transformer\n",
        "        if exist_proj is None and transformer is None:\n",
        "            self.transformer = Transformer.from_pipeline('proj=noop ellps=GRS80')\n",
        "        # 保存已经存在的转换器\n",
        "        self.transformers = {}\n",
        "\n",
        "    def transformer(self, coordinate):\n",
        "        \"\"\"\n",
        "        创建坐标转换的 transformer\n",
        "        :param coordinate: list or tuple 坐标\n",
        "        :return: obj pyproj.transformer.Transformer 对象。\n",
        "        \"\"\"\n",
        "        lng = coordinate[0]\n",
        "        if self._transformer:\n",
        "            return self._transformer\n",
        "\n",
        "        exist_proj_name = getattr(self.exist_proj, '__name__')\n",
        "        target_proj_name = getattr(self.target_proj, '__name__')\n",
        "        exist_zone_degree = None\n",
        "        target_zone_degree = None\n",
        "\n",
        "        try:\n",
        "            exist_zone_degree = int(exist_proj_name.split('_')[-1])\n",
        "        except Exception:\n",
        "            pass\n",
        "\n",
        "        try:\n",
        "            target_zone_degree = int(target_proj_name.split('_')[-1])\n",
        "        except Exception:\n",
        "            pass\n",
        "\n",
        "        # 确定输入坐标的中央经度，当创建对象的时候指定了中央经线，则使用指定的\n",
        "        if self.exist_lng0:\n",
        "            try:\n",
        "                exist_lng0 = float(self.exist_lng0)\n",
        "            except Exception:\n",
        "                raise TypeError('指定输入中央经线经度值错误！')\n",
        "        else:\n",
        "            if exist_zone_degree:\n",
        "                # 说明输入的是投影坐标\n",
        "                if self.exist_with_zone:\n",
        "                    number = int(lng / 1000000)\n",
        "                    exist_lng0 = (number - 1) * exist_zone_degree + 3\n",
        "                else:\n",
        "                    raise TypeError('当原有坐标不是经纬度坐标并且输入投影坐标X方向没有带号时，创建对象时必须指定正确的中央经线经度值！')\n",
        "            else:\n",
        "                # 说明输入的是经纬度坐标\n",
        "                exist_lng0 = lng\n",
        "\n",
        "        # 确定输出坐标的中央经度,当没有指定的时候，使用输入的\n",
        "        if self.target_lng0:\n",
        "            try:\n",
        "                target_lng0 = float(self.target_lng0)\n",
        "            except Exception:\n",
        "                raise TypeError('指定输出中央经线经度值错误！')\n",
        "        else:\n",
        "            target_lng0 = exist_lng0\n",
        "\n",
        "        # 格式化中央经度 ，以获得每个分度带内的 transformer_key\n",
        "        if exist_zone_degree:\n",
        "            exist_lng0 = Epsg.calc_number_lng0(exist_lng0, exist_zone_degree)[-1]\n",
        "        else:\n",
        "            exist_lng0 = None\n",
        "\n",
        "        if target_zone_degree:\n",
        "            target_lng0 = Epsg.calc_number_lng0(target_lng0, target_zone_degree)[-1]\n",
        "        else:\n",
        "            target_lng0 = None\n",
        "\n",
        "        transformer_key = \"{}/{}/{}/{}/{}/{}\".format(\n",
        "            exist_proj_name, str(exist_lng0), str(self.exist_with_zone),\n",
        "            target_proj_name, str(target_lng0), str(self.target_with_zone),\n",
        "        )\n",
        "\n",
        "        if transformer_key in self.transformers:\n",
        "            return self.transformers[transformer_key]\n",
        "\n",
        "        # 生成transformer\n",
        "        transformer = Transformer.from_crs(\n",
        "            self.exist_proj(exist_lng0, self.exist_with_zone),\n",
        "            self.target_proj(target_lng0, self.target_with_zone),\n",
        "            always_xy=True\n",
        "        )\n",
        "        # print('生成trans：', transformer_key)\n",
        "        self.transformers[transformer_key] = transformer\n",
        "        return transformer\n",
        "\n",
        "    def __call__(self, coordinate, *args, **kwargs):\n",
        "        transformer = self.transformer(coordinate)\n",
        "        # print(transformer.definition)\n",
        "        return transformer.transform(*coordinate)\n",
        "\n",
        "\n",
        "if __name__ == '__main__':\n",
        "    import time\n",
        "\n",
        "    with open('/home/nandahgy/geotransform/test.csv') as fp:\n",
        "        data = fp.read()\n",
        "    coords = [tuple(map(lambda _: float(_), x.split(','))) for x in data.split('\\n') if x]\n",
        "\n",
        "    start_time = time.time()\n",
        "    trans = TransProj(exist_proj=Epsg.wgs84_3d, target_proj=Epsg.xian80_gauss_3, exist_lng0=114, target_with_zone=True)\n",
        "    new_coords = []\n",
        "    for coord in coords:\n",
        "        new_coord = trans(coord)\n",
        "        new_coords.append(new_coord)\n",
        "\n",
        "    print('转换点数：%d，耗时：%.3fS' % (len(new_coords), time.time() - start_time))\n",
        "    print(\"生成 transformer 个数：%d\" % len(trans.transformers))\n",
        "    for t in trans.transformers.values():\n",
        "        print('\\t', t.description)\n",
        "\n",
        "    with open('/home/nandahgy/geotransform/test_result.csv', 'w') as f:\n",
        "        for x in new_coords:\n",
        "            f.write('%.3f,%.3f,%.3f\\n' % tuple(x))"
      ]
    },
    {
      "cell_type": "markdown",
      "metadata": {},
      "source": [
        "在地图上找了一个点"
      ]
    },
    {
      "cell_type": "code",
      "execution_count": null,
      "metadata": {},
      "outputs": [
        {
          "name": "stdout",
          "output_type": "stream",
          "text": [
            "生成 transformer 个数：1\n",
            "new_coords: [(40596610.85910711, 3600756.9702698416)]\n",
            "\t axis order change (2D) + Ballpark geographic offset from WGS 84 to China Geodetic Coordinate System 2000 + 3-degree Gauss-Kruger zone 40 + axis order change (2D)\n"
          ]
        }
      ],
      "source": [
        "coords = [(121.028313,32.526987)]\n",
        "trans = TransProj(exist_proj=Epsg.wgs84_3d, target_proj=Epsg.cgcs2000, exist_lng0=120, target_with_zone=True)\n",
        "# 计算公式为6度带带号=（经度+6°）/6取整，\n",
        "# 6度带中央经线=（6度带带号*6）-3，\n",
        "# 3度带带号=（经度+1.5°）/3取整，\n",
        "# 3度带中央经线=3度带带号*3。\n",
        "# 6度带中央经线经度的计算：\n",
        "# 当地中央经线经度=6°×当地带号-3°如地形图上横坐标为20345532，\n",
        "# 其所处的6度带的中央经线经度为：6°×20-3°=117°。\n",
        "new_coords = []\n",
        "for coord in coords:\n",
        "      new_coord = trans(coord)\n",
        "      new_coords.append(new_coord)\n",
        "      \n",
        "print(\"生成 transformer 个数：%d\" % len(trans.transformers))\n",
        "print(\"new_coords:\", new_coords)\n",
        "for t in trans.transformers.values():\n",
        "      print('\\t', t.description)"
      ]
    },
    {
      "cell_type": "code",
      "execution_count": null,
      "metadata": {},
      "outputs": [
        {
          "name": "stdout",
          "output_type": "stream",
          "text": [
            "生成 transformer 个数：1\n",
            "new_coords: [(121.02872977647992, 32.563537733494634)]\n",
            "\t axis order change (2D) + Inverse of 3-degree Gauss-Kruger zone 40 + Ballpark geographic offset from China Geodetic Coordinate System 2000 to WGS 84 + axis order change (2D)\n"
          ]
        }
      ],
      "source": [
        "coords = [(40596610.85910711, 3604810.9702698416)]\n",
        "trans = TransProj(exist_proj=Epsg.cgcs2000, target_proj=Epsg.wgs84_3d, exist_lng0=120, target_with_zone=True)\n",
        "# 计算公式为6度带带号=（经度+6°）/6取整，\n",
        "# 6度带中央经线=（6度带带号*6）-3，\n",
        "# 3度带带号=（经度+1.5°）/3取整，\n",
        "# 3度带中央经线=3度带带号*3。\n",
        "# 6度带中央经线经度的计算：\n",
        "# 当地中央经线经度=6°×当地带号-3°如地形图上横坐标为20345532，\n",
        "# 其所处的6度带的中央经线经度为：6°×20-3°=117°。\n",
        "new_coords = []\n",
        "for coord in coords:\n",
        "      new_coord = trans(coord)\n",
        "      new_coords.append(new_coord)\n",
        "      \n",
        "print(\"生成 transformer 个数：%d\" % len(trans.transformers))\n",
        "print(\"new_coords:\", new_coords)\n",
        "for t in trans.transformers.values():\n",
        "      print('\\t', t.description)"
      ]
    }
  ],
  "metadata": {
    "colab": {
      "collapsed_sections": [],
      "provenance": [],
      "toc_visible": true
    },
    "kernelspec": {
      "display_name": "Python 3.9.2 64-bit",
      "language": "python",
      "name": "python3"
    },
    "language_info": {
      "codemirror_mode": {
        "name": "ipython",
        "version": 3
      },
      "file_extension": ".py",
      "mimetype": "text/x-python",
      "name": "python",
      "nbconvert_exporter": "python",
      "pygments_lexer": "ipython3",
      "version": "3.9.2"
    },
    "vscode": {
      "interpreter": {
        "hash": "916dbcbb3f70747c44a77c7bcd40155683ae19c65e1c03b4aa3499c5328201f1"
      }
    }
  },
  "nbformat": 4,
  "nbformat_minor": 0
}
